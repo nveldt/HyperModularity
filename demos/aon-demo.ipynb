{
 "cells": [
  {
   "cell_type": "markdown",
   "metadata": {},
   "source": [
    "# Clustering with All-Or-Nothing Affinities\n",
    "\n",
    "In this notebook we'll illustrate one of the most important practical cases for hypergraph modularity clustering, the case of all-or-nothing affinities. As we show in our paper\n",
    "\n",
    "> Chodrow, Philip S., Nate Veldt, and Austin R. Benson. \"Generative hypergraph clustering: from blockmodels to modularity.\" arXiv preprint arXiv:2101.09611 (2021),\n",
    "\n",
    "this class of clustering problem admits highly performant Louvain-type algorithms. It also generalizes the \"strict modularity\" objective developed in\n",
    "\n",
    "> Kamiński, Bogumił, et al. \"Clustering via hypergraph modularity.\" PloS ONE 14.11 (2019).\n",
    "\n",
    "The experiment we show here is a simplified version of the experiment on school contact networks shown in our paper in Fig. 3. "
   ]
  },
  {
   "cell_type": "code",
   "execution_count": 1,
   "metadata": {},
   "outputs": [
    {
     "name": "stderr",
     "output_type": "stream",
     "text": [
      "┌ Warning: no Manifest.toml file found, static paths used\n",
      "└ @ Revise /home/phil/.julia/packages/Revise/BqeJF/src/Revise.jl:1328\n",
      "\u001b[32m\u001b[1m Activating\u001b[22m\u001b[39m environment at `~/HyperModularity/Project.toml`\n"
     ]
    }
   ],
   "source": [
    "using Revise\n",
    "using Pkg; Pkg.activate(\"../.\")\n",
    "using HyperModularity"
   ]
  },
  {
   "cell_type": "markdown",
   "metadata": {},
   "source": [
    "## Acquire Data"
   ]
  },
  {
   "cell_type": "code",
   "execution_count": 2,
   "metadata": {},
   "outputs": [
    {
     "data": {
      "text/plain": [
       "(hypergraph\n",
       "  N: Array{Int64}((327,)) [1, 2, 3, 4, 5, 6, 7, 8, 9, 10  …  318, 319, 320, 321, 322, 323, 324, 325, 326, 327]\n",
       "  E: Dict{Int64,Dict}\n",
       "  D: Array{Int64}((327,)) [36, 44, 33, 72, 74, 66, 53, 63, 117, 35  …  45, 8, 38, 44, 12, 55, 16, 2, 64, 10]\n",
       ", [9, 9, 3, 3, 8, 8, 3, 3, 7, 7  …  9, 4, 5, 9, 7, 9, 2, 1, 6, 4])"
      ]
     },
     "execution_count": 2,
     "metadata": {},
     "output_type": "execute_result"
    }
   ],
   "source": [
    "dataset = \"contact-high-school-classes\"\n",
    "maxsize = 5\t# max hyperedge size\n",
    "minsize = 2\t# min hyperedge size\n",
    "return_labels = true\n",
    "H, Z = read_hypergraph_data(dataset,maxsize,minsize,return_labels)"
   ]
  },
  {
   "cell_type": "markdown",
   "metadata": {},
   "source": [
    "Although we have read in the true labels, we are going to treat them as unknown and use them only for final comparison. "
   ]
  },
  {
   "cell_type": "markdown",
   "metadata": {},
   "source": [
    "### Warmstart\n",
    "\n",
    "We'd like to form an estimate of the AON affinity function $\\Omega$, which requires a preliminary label estimate. For this we use dyadic Louvain: "
   ]
  },
  {
   "cell_type": "code",
   "execution_count": 3,
   "metadata": {},
   "outputs": [],
   "source": [
    "Ẑ = CliqueExpansionModularity(H);"
   ]
  },
  {
   "cell_type": "markdown",
   "metadata": {},
   "source": [
    "Now we can estimate the AON affinity. To do so we use the function `estimateΩEmpirically`, with a custom `aggregator`. This `aggregator` is a function that maps a partition vector `p` to one or more features of `p`. In the case of the AON affinity, we assign parameters based on the following two features: \n",
    "\n",
    "1. Whether or not  `p` contains a single entry, which corresponds to a perfectly homogeneous hyperedge. \n",
    "2. The sum of `p`, which gives the size of the hyperedge. \n",
    "\n",
    "We can therefore perform our estimate like this: "
   ]
  },
  {
   "cell_type": "code",
   "execution_count": 4,
   "metadata": {},
   "outputs": [],
   "source": [
    "# AON aggregator\n",
    "aggregator = p -> [length(p) == 1, sum(p)]\n",
    "\n",
    "Ω̂ = estimateΩEmpirically(H, Ẑ; aggregator = aggregator);"
   ]
  },
  {
   "cell_type": "markdown",
   "metadata": {},
   "source": [
    "Now we're ready to alternate between estimating labels and $\\hat{\\Omega}$. "
   ]
  },
  {
   "cell_type": "code",
   "execution_count": 5,
   "metadata": {},
   "outputs": [
    {
     "name": "stdout",
     "output_type": "stream",
     "text": [
      "Current modularity -112597.7 with 5 clusters.\n",
      "Current modularity -112597.7 with 5 clusters.\n",
      "Current modularity -112597.7 with 5 clusters.\n",
      "Current modularity -112453.01 with 6 clusters.\n",
      "Current modularity -112453.01 with 6 clusters.\n",
      "Current modularity -112453.01 with 6 clusters.\n",
      "Current modularity -112453.01 with 6 clusters.\n",
      "Current modularity -110512.3 with 7 clusters.\n",
      "Current modularity -109919.77 with 9 clusters.\n",
      "Current modularity -109919.77 with 9 clusters.\n"
     ]
    }
   ],
   "source": [
    "for i ∈ 1:10\n",
    "    Ẑ = AON_Louvain(H, Ω̂; α = 0, verbose = false,  scan_order = \"random\")\n",
    "    Ω̂  = estimateΩEmpirically(H, Ẑ; aggregator = aggregator)\n",
    "    \n",
    "    Q = round(Float64(modularity(H, Ẑ, Ω̂;α = 0)), digits = 2)\n",
    "    k = length(unique(Ẑ))\n",
    "    println(\"Current modularity $Q with $k clusters.\")\n",
    "end"
   ]
  },
  {
   "cell_type": "markdown",
   "metadata": {},
   "source": [
    "In this relatively easy clustering problem, we perfectly recover the ground-truth clusters after 10 iterations. "
   ]
  },
  {
   "cell_type": "code",
   "execution_count": 6,
   "metadata": {},
   "outputs": [
    {
     "data": {
      "text/plain": [
       "1.0"
      ]
     },
     "execution_count": 6,
     "metadata": {},
     "output_type": "execute_result"
    }
   ],
   "source": [
    "mutualInformation(Z, Ẑ, true)"
   ]
  }
 ],
 "metadata": {
  "kernelspec": {
   "display_name": "Julia 1.4.2",
   "language": "julia",
   "name": "julia-1.4"
  },
  "language_info": {
   "file_extension": ".jl",
   "mimetype": "application/julia",
   "name": "julia",
   "version": "1.4.2"
  }
 },
 "nbformat": 4,
 "nbformat_minor": 4
}
