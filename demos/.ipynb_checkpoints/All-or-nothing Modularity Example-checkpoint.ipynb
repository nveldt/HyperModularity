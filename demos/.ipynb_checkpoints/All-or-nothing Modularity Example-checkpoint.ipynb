{
 "cells": [
  {
   "cell_type": "markdown",
   "metadata": {},
   "source": [
    "**Load HyperModularity package**\n",
    "\n",
    "Right now this requires activating the package. \n",
    "Later when the package is registered this will be replaced with a simple \"using HyperModularity\" statement."
   ]
  },
  {
   "cell_type": "code",
   "execution_count": 42,
   "metadata": {},
   "outputs": [
    {
     "name": "stdout",
     "output_type": "stream",
     "text": [
      "\u001b[32m\u001b[1mActivating\u001b[22m\u001b[39m environment at `~/GitHubRepos/Working-directory/HyperModularity/Project.toml`\n"
     ]
    }
   ],
   "source": [
    "using Revise\n",
    "using Pkg; Pkg.activate(\"../.\")\n",
    "using HyperModularity"
   ]
  },
  {
   "cell_type": "markdown",
   "metadata": {},
   "source": [
    "**Load dataset**\n",
    "\n",
    "Alternately, read in hypergraph stored a different way. See demo notebook on reading in hypergraphs and coverting between storage types."
   ]
  },
  {
   "cell_type": "code",
   "execution_count": 29,
   "metadata": {},
   "outputs": [
    {
     "data": {
      "text/plain": [
       "(Array{Int64,1}[[21, 102, 167, 323], [28, 32, 115, 116], [33, 64, 65, 115], [49, 158, 168, 187], [58, 77, 163, 245], [144, 145, 269, 285], [17, 108, 176, 178], [145, 166, 276, 285], [207, 208, 256, 263], [4, 86, 115, 121]  …  [18, 20, 298], [139, 198, 241], [145, 269, 285], [82, 83, 127, 163, 186], [58, 77, 127, 163, 245], [144, 145, 166, 276, 285], [28, 29, 76, 85, 92], [205, 258, 265, 288, 303], [28, 41, 76, 85, 91], [145, 166, 268, 269, 276]], [1.0, 1.0, 1.0, 1.0, 1.0, 1.0, 1.0, 1.0, 1.0, 1.0  …  1.0, 1.0, 1.0, 1.0, 1.0, 1.0, 1.0, 1.0, 1.0, 1.0])"
      ]
     },
     "execution_count": 29,
     "metadata": {},
     "output_type": "execute_result"
    }
   ],
   "source": [
    "dataset = \"contact-high-school-classes\"\n",
    "maxsize = 5\t# max hyperedge size\n",
    "minsize = 2\t# min hyperedge size\n",
    "return_labels = true\n",
    "H, L = read_hypergraph_data(dataset,maxsize,minsize,return_labels)\n",
    "\n",
    "# In many cases it is convenient to have the hypergraph stored as an edgelist and weights vector\n",
    "EdgeList, weights = HyperModularity.hyperedge_formatting(H);"
   ]
  },
  {
   "cell_type": "markdown",
   "metadata": {},
   "source": [
    "**Simple Version**\n",
    "\n",
    "Use the simplest version of all-or-nothing Louvain. This does not require you to set intensity function Ω. Instead, one is learned from an initial clustering. Select one of the following options for input \"startclusters\":\n",
    "\n",
    "* \"singletons\": learn Ω from clustering where all nodes are in singletons\n",
    "* \"cliquelouvain\": learn Ω from clustering obtained by performing clique expansion and running graph louvain\n",
    "* \"starlouvain\": learn Ω from clustering obtained by star expansion + graph louvain.\n",
    "\n",
    "This can be used as a first step, but it is highly recommended to alternate between learning cluster vector Z\n",
    "and learning Ω intensity function, especially if using one of the simple Ω functions here."
   ]
  },
  {
   "cell_type": "code",
   "execution_count": 26,
   "metadata": {},
   "outputs": [
    {
     "name": "stdout",
     "output_type": "stream",
     "text": [
      "One step of all-or-nothing HyperLouvain\n",
      "\n",
      "Louvain Iteration 1\n",
      "Louvain Iteration 2\n",
      "Main loop took 0.0047321319580078125 seconds\n",
      "One step of all-or-nothing HyperLouvain\n",
      "\n",
      "Louvain Iteration 1\n",
      "No nodes moved clusters\n",
      "Main loop took 0.00010800361633300781 seconds\n"
     ]
    }
   ],
   "source": [
    "start = \"cliquelouvain\"\n",
    "gamma_res = 3.0 # can additionally toggle the resolution parameter for expansion + louvain initializer\n",
    "Z = Simple_AON_Louvain(H,startclusters = start; gamma = gamma_res);"
   ]
  },
  {
   "cell_type": "markdown",
   "metadata": {},
   "source": [
    "**Main Version**\n",
    "\n",
    "You can also run an all-or-nothing Louvain after just setting vectors of parameters γ and β; weights for the volume part and the cut part of the objective respectively. See paper for details, in particular the relationship with intensity funciton Ω.\n",
    "\n",
    "Optional parameters:\n",
    "\n",
    "* **maxits** -- maximum iterations of main step of Louvain. Default = 100\n",
    "* **verbose** -- if true, print out algorithm progress. Default = true\n",
    "* **clusterpenalty** -- extra penalty on number of clusters; encourages fewer clusters. Default = 0.0\n",
    "* **Z0** -- warm start clustering, on which Louvain improves modularity. Default is all singletons\n",
    "* **rangflag** -- if true, scan order of nodes is random. Default is false\n"
   ]
  },
  {
   "cell_type": "code",
   "execution_count": 43,
   "metadata": {},
   "outputs": [
    {
     "name": "stdout",
     "output_type": "stream",
     "text": [
      "One step of all-or-nothing HyperLouvain\n",
      "\n",
      "Louvain Iteration 1\n",
      "Louvain Iteration 2\n",
      "Louvain Iteration 3\n",
      "Main loop took 0.013227224349975586 seconds\n",
      "One step of all-or-nothing HyperLouvain\n",
      "\n",
      "Louvain Iteration 1\n",
      "Louvain Iteration 2\n",
      "Main loop took 0.0002961158752441406 seconds\n",
      "One step of all-or-nothing HyperLouvain\n",
      "\n",
      "Louvain Iteration 1\n",
      "No nodes moved clusters\n",
      "Main loop took 9.393692016601562e-5 seconds\n"
     ]
    }
   ],
   "source": [
    "β, γ = HyperModularity.Kaminski_default(H) # uses special case as defined by Kaminski et al. 2020\n",
    "Z = AON_Louvain(H,β,γ; maxits = 20);"
   ]
  },
  {
   "cell_type": "markdown",
   "metadata": {},
   "source": [
    "**To do**\n",
    "\n",
    "Write function that converts back and forth between Omega intensities and parameter vectors β, γ.\n",
    "\n",
    "Write function that prints out modularity objective as well as the likelihood function for these outputs, based only on β, γ.\n",
    "\n",
    "Give example of running a coordinate ascent method where we alternate between learning Z and learning Omega."
   ]
  },
  {
   "cell_type": "code",
   "execution_count": null,
   "metadata": {},
   "outputs": [],
   "source": []
  }
 ],
 "metadata": {
  "kernelspec": {
   "display_name": "Julia 1.3.1",
   "language": "julia",
   "name": "julia-1.3"
  },
  "language_info": {
   "file_extension": ".jl",
   "mimetype": "application/julia",
   "name": "julia",
   "version": "1.3.1"
  }
 },
 "nbformat": 4,
 "nbformat_minor": 4
}
