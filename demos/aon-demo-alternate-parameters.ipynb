{
 "cells": [
  {
   "cell_type": "markdown",
   "metadata": {},
   "source": [
    "## All-or-nothing Modularity using β and γ parameters\n",
    "\n",
    "There are two ways to call the Louvain code for all-or-nothing modularity.\n",
    "One works directly with an intensity function Ω, and is recommended. In this notebook, we illustrate another approach, using parameters β and γ.\n",
    "\n",
    "Tuning γ has the effect of modifying the sizes of the clusters.\n",
    "\n",
    "Tuning β allows one to specity which hyperedge sizes are most relavant."
   ]
  },
  {
   "cell_type": "markdown",
   "metadata": {},
   "source": [
    "**Load HyperModularity package**\n",
    "\n",
    "Right now requires activating the package. \n",
    "Later when the package is registered this will be replaced with a simple \"using HyperModularity\" statement."
   ]
  },
  {
   "cell_type": "code",
   "execution_count": 50,
   "metadata": {},
   "outputs": [
    {
     "name": "stdout",
     "output_type": "stream",
     "text": [
      "\u001b[32m\u001b[1mActivating\u001b[22m\u001b[39m environment at `~/GitHubRepos/Working-directory/HyperModularity/Project.toml`\n"
     ]
    }
   ],
   "source": [
    "using Revise\n",
    "using Pkg; Pkg.activate(\"../.\")\n",
    "using HyperModularity"
   ]
  },
  {
   "cell_type": "markdown",
   "metadata": {},
   "source": [
    "**Load dataset**"
   ]
  },
  {
   "cell_type": "code",
   "execution_count": 7,
   "metadata": {},
   "outputs": [],
   "source": [
    "dataset = \"contact-high-school-classes\"\n",
    "maxsize = 5\t# max hyperedge size\n",
    "minsize = 2\t# min hyperedge size\n",
    "return_labels = true\n",
    "H, L = read_hypergraph_data(dataset,maxsize,minsize,return_labels)\n",
    "\n",
    "# In many cases it is convenient to have the hypergraph stored as an edgelist and weights vector\n",
    "EdgeList, weights = HyperModularity.hyperedge_formatting(H);"
   ]
  },
  {
   "cell_type": "markdown",
   "metadata": {},
   "source": [
    "**Simple Version**\n",
    "\n",
    "Use the simplest version of all-or-nothing Louvain. This does not require you to set intensity function Ω or parameters β and γ. Instead, an intensity function is implicitly learned from an initial clustering. Select one of the following options for input \"startclusters\" (the initial clustering):\n",
    "\n",
    "* \"singletons\": learn Ω from clustering where all nodes are in singletons\n",
    "* \"cliquelouvain\": learn Ω from clustering obtained by performing clique expansion and running graph louvain\n",
    "* \"starlouvain\": learn Ω from clustering obtained by star expansion + graph louvain.\n",
    "\n",
    "This can be used as a first step in finding a clustering. For best performance, alternate between learning parameters β and γ and finding an updated clustering vector Z.\n"
   ]
  },
  {
   "cell_type": "code",
   "execution_count": 8,
   "metadata": {},
   "outputs": [
    {
     "name": "stdout",
     "output_type": "stream",
     "text": [
      "One step of all-or-nothing HyperLouvain\n",
      "\n",
      "Louvain Iteration 1\n",
      "Louvain Iteration 2\n",
      "Main loop took 0.008133888244628906 seconds\n",
      "One step of all-or-nothing HyperLouvain\n",
      "\n",
      "Louvain Iteration 1\n",
      "No nodes moved clusters\n",
      "Main loop took 0.00012111663818359375 seconds\n"
     ]
    }
   ],
   "source": [
    "start = \"cliquelouvain\"\n",
    "gamma_res = 3.0 # can additionally toggle the resolution parameter for expansion + louvain initializer\n",
    "Z = Simple_AON_Louvain(H,startclusters = start; gamma = gamma_res);"
   ]
  },
  {
   "cell_type": "markdown",
   "metadata": {},
   "source": [
    "**Explicitly Setting β and γ**\n",
    "\n",
    "You can also run an all-or-nothing Louvain after just setting vectors of parameters γ and β; weights for the volume part and the cut part of the objective respectively. See paper for details, in particular the relationship with intensity funciton Ω.\n",
    "\n",
    "Optional parameters:\n",
    "\n",
    "* **maxits** -- maximum iterations of main step of Louvain. Default = 100\n",
    "* **verbose** -- if true, print out algorithm progress. Default = true\n",
    "* **clusterpenalty** -- extra penalty on number of clusters; encourages fewer clusters. Default = 0.0\n",
    "* **Z0** -- warm start clustering, on which Louvain improves modularity. Default is all singletons\n",
    "* **rangflag** -- if true, scan order of nodes is random. Default is false\n"
   ]
  },
  {
   "cell_type": "code",
   "execution_count": 110,
   "metadata": {},
   "outputs": [
    {
     "name": "stdout",
     "output_type": "stream",
     "text": [
      "One step of all-or-nothing HyperLouvain\n",
      "\n",
      "Louvain Iteration 1\n",
      "Louvain Iteration 2\n",
      "Louvain Iteration 3\n",
      "Main loop took 0.015101194381713867 seconds\n",
      "One step of all-or-nothing HyperLouvain\n",
      "\n",
      "Louvain Iteration 1\n",
      "Louvain Iteration 2\n",
      "Main loop took 0.00031495094299316406 seconds\n",
      "One step of all-or-nothing HyperLouvain\n",
      "\n",
      "Louvain Iteration 1\n",
      "No nodes moved clusters\n",
      "Main loop took 9.703636169433594e-5 seconds\n",
      "\n",
      "Modularity = -313.0816501824064, Loglikelihood = -160.20520872218805, 7 clusters\n"
     ]
    }
   ],
   "source": [
    "β, γ = HyperModularity.Kaminski_default(H) # uses special case as defined by Kaminski et al. 2020\n",
    "Z = AON_Louvain(H,β,γ; maxits = 20);\n",
    "omega = HyperModularity.betagamma_to_omega(β, γ)\n",
    "modu,likeli = modularity_aon(H,Z,omega;likelihood = true)\n",
    "nk = length(unique(Z))\n",
    "println(\"\\nModularity = $modu, Loglikelihood = $likeli, $nk clusters\")"
   ]
  },
  {
   "cell_type": "markdown",
   "metadata": {},
   "source": [
    "## Full coordinate ascent framework\n",
    "\n",
    "The best way to use all-or-nothing Louvain is to alternate between learning β and γ and updating the clustering based on new parameters to greedily maximize the log likelihood."
   ]
  },
  {
   "cell_type": "markdown",
   "metadata": {},
   "source": [
    "**Store hypergraph information in alternate format**.\n",
    "First we store the hypergraph as an edge list, edge weights, and degree vector. This will speed up later computations when repeatedly learning updated parameters β and γ."
   ]
  },
  {
   "cell_type": "code",
   "execution_count": 87,
   "metadata": {},
   "outputs": [],
   "source": [
    "d,n,kmax,e2n,n2e,weights,edge_lengths = HyperModularity.alternate_hypergraph_storage(H);"
   ]
  },
  {
   "cell_type": "markdown",
   "metadata": {},
   "source": [
    "The full framework obtains an initial clustering from a graph projection + Louvain.\n",
    "The coordinate ascent framework alternates between learning parameters β and γ from a clustering vector,\n",
    "and then computing an updated clustering vector from these parameters using the Louvain-style algorithm.\n",
    "\n",
    "This code is still experimental and there are couple caveats to note:\n",
    "\n",
    "* The modularity and likelihood values computed based on β and γ are scaled differently from modularity values computed when using an intensity function Ω. For the purposes of telling when another iteration improves modularity or likelihood, this should not matter.\n",
    "* **Numerical issues**: NaN may be returned for modularity or likelihood when learned β, γ, and omega values involves zero entries or infinite entries."
   ]
  },
  {
   "cell_type": "code",
   "execution_count": 108,
   "metadata": {},
   "outputs": [
    {
     "name": "stdout",
     "output_type": "stream",
     "text": [
      "modularity = NaN, loglikelihood = NaN, 6 clusters\n",
      "modularity = NaN, loglikelihood = NaN, 7 clusters\n",
      "modularity = NaN, loglikelihood = NaN, 9 clusters\n",
      "modularity = -352.4153728037049, loglikelihood = -202.7169851738345, 9 clusters\n",
      "modularity = -352.4153728037049, loglikelihood = -202.7169851738345, 9 clusters\n"
     ]
    }
   ],
   "source": [
    "randflag = false\n",
    "verbose = false\n",
    "maxits = 100\n",
    "Z = CliqueExpansionModularity(H);\n",
    "β, γ, omega = learn_omega_aon(e2n,weights,Z,kmax,d,n)\n",
    "\n",
    "for i ∈ 1:5\n",
    "    AllClusterings = AON_Louvain(n2e,e2n,weights,d,edge_lengths,β,γ,kmax,randflag,maxits,verbose)\n",
    "    Z = AllClusterings[:,end]; \n",
    "    modu,likeli = modularity_aon(H,Z,omega;likelihood = true)\n",
    "    β, γ, omega = learn_omega_aon(e2n,weights,Z,kmax,d,n)\n",
    "    nk = length(unique(Z))\n",
    "    println(\"modularity = $modu, loglikelihood = $likeli, $nk clusters\")\n",
    "end"
   ]
  },
  {
   "cell_type": "code",
   "execution_count": 111,
   "metadata": {},
   "outputs": [
    {
     "data": {
      "text/plain": [
       "0.9295180058447912"
      ]
     },
     "execution_count": 111,
     "metadata": {},
     "output_type": "execute_result"
    }
   ],
   "source": [
    "# We see we have obtained the ground truth clustering with this approach\n",
    "mutualInformation(Z, L, true)"
   ]
  },
  {
   "cell_type": "code",
   "execution_count": null,
   "metadata": {},
   "outputs": [],
   "source": []
  }
 ],
 "metadata": {
  "kernelspec": {
   "display_name": "Julia 1.3.1",
   "language": "julia",
   "name": "julia-1.3"
  },
  "language_info": {
   "file_extension": ".jl",
   "mimetype": "application/julia",
   "name": "julia",
   "version": "1.3.1"
  }
 },
 "nbformat": 4,
 "nbformat_minor": 4
}
